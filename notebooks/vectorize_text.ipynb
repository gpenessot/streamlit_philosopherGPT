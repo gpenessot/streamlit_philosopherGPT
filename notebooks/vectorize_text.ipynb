{
 "cells": [
  {
   "cell_type": "code",
   "execution_count": 19,
   "metadata": {},
   "outputs": [
    {
     "data": {
      "text/plain": [
       "['../config.cfg']"
      ]
     },
     "execution_count": 19,
     "metadata": {},
     "output_type": "execute_result"
    }
   ],
   "source": [
    "import sys\n",
    "\n",
    "sys.path.append(\"..\")\n",
    "\n",
    "import json\n",
    "\n",
    "import numpy as np\n",
    "import pandas as pd\n",
    "import torch\n",
    "\n",
    "from qdrant_client import QdrantClient\n",
    "from qdrant_client.http import models\n",
    "from sentence_transformers import SentenceTransformer\n",
    "\n",
    "from tqdm.notebook import tqdm\n",
    "import configparser\n",
    "\n",
    "config=configparser.ConfigParser()\n",
    "config.read('../config.cfg')"
   ]
  },
  {
   "cell_type": "code",
   "execution_count": 20,
   "metadata": {},
   "outputs": [],
   "source": [
    "QDRANT_HOST=config['QDRANT']['host']\n",
    "QDRANT_PORT=config['QDRANT']['port']\n",
    "QDRANT_API_KEY=config['QDRANT']['qdrant_api_key']\n",
    "DATA='../data'\n",
    "COLLECTION_NAME='stoician_philosophy'"
   ]
  },
  {
   "cell_type": "markdown",
   "metadata": {},
   "source": [
    "## Set relevant parameters\n"
   ]
  },
  {
   "cell_type": "code",
   "execution_count": 15,
   "metadata": {},
   "outputs": [],
   "source": [
    "BOOK_FILENAME = \"Pensées_pour_moi-même\""
   ]
  },
  {
   "cell_type": "markdown",
   "metadata": {},
   "source": [
    "## Connect to Qdrant and create collection\n"
   ]
  },
  {
   "cell_type": "code",
   "execution_count": 16,
   "metadata": {},
   "outputs": [
    {
     "data": {
      "text/plain": [
       "True"
      ]
     },
     "execution_count": 16,
     "metadata": {},
     "output_type": "execute_result"
    }
   ],
   "source": [
    "client = QdrantClient(url=QDRANT_HOST, \n",
    "                      port=QDRANT_PORT, \n",
    "                      api_key=QDRANT_API_KEY)\n",
    "\n",
    "client.recreate_collection(\n",
    "    collection_name=COLLECTION_NAME,\n",
    "    vectors_config=models.VectorParams(size=384, \n",
    "                                       distance=models.Distance.COSINE),\n",
    ")"
   ]
  },
  {
   "cell_type": "markdown",
   "metadata": {},
   "source": [
    "## Read sentences\n"
   ]
  },
  {
   "cell_type": "code",
   "execution_count": 17,
   "metadata": {},
   "outputs": [
    {
     "data": {
      "application/vnd.jupyter.widget-view+json": {
       "model_id": "b7cbb17679fd46c492e72c999944452a",
       "version_major": 2,
       "version_minor": 0
      },
      "text/plain": [
       "  0%|          | 0/26 [00:00<?, ?it/s]"
      ]
     },
     "metadata": {},
     "output_type": "display_data"
    }
   ],
   "source": [
    "with open(f\"{DATA}/processed/{BOOK_FILENAME}/{BOOK_FILENAME}.json\", \"r\") as file:\n",
    "    meditations_json = json.load(file)\n",
    "\n",
    "rows = []\n",
    "for chapter in tqdm(meditations_json[\"data\"]):\n",
    "    for sentence in chapter[\"sentences\"]:\n",
    "        rows.append(\n",
    "            (\n",
    "                chapter[\"title\"],\n",
    "                chapter[\"url\"],\n",
    "                sentence,\n",
    "            )\n",
    "        )\n",
    "\n",
    "df = pd.DataFrame(data=rows, columns=[\"title\", \"url\", \"sentence\"])\n",
    "\n",
    "df = df[df[\"sentence\"].str.split().str.len() > 15]\n"
   ]
  },
  {
   "cell_type": "markdown",
   "metadata": {},
   "source": [
    "## Vectorize sentences\n"
   ]
  },
  {
   "cell_type": "code",
   "execution_count": 18,
   "metadata": {},
   "outputs": [
    {
     "data": {
      "application/vnd.jupyter.widget-view+json": {
       "model_id": "c1f1e80d3c2843ce8edb09ce35c55dfa",
       "version_major": 2,
       "version_minor": 0
      },
      "text/plain": [
       "  0%|          | 0/1275 [00:00<?, ?it/s]"
      ]
     },
     "metadata": {},
     "output_type": "display_data"
    },
    {
     "data": {
      "text/plain": [
       "UpdateResult(operation_id=0, status=<UpdateStatus.COMPLETED: 'completed'>)"
      ]
     },
     "execution_count": 18,
     "metadata": {},
     "output_type": "execute_result"
    }
   ],
   "source": [
    "model = SentenceTransformer(\n",
    "    \"paraphrase-multilingual-MiniLM-L12-v2\", # msmarco-MiniLM-L-6-v3\n",
    "    device=\"cuda\"\n",
    "    if torch.cuda.is_available()\n",
    "    else \"mps\"\n",
    "    if torch.backends.mps.is_available()\n",
    "    else \"cpu\",\n",
    ")\n",
    "\n",
    "vectors = []\n",
    "batch_size = 512\n",
    "batch = []\n",
    "\n",
    "for doc in tqdm(df[\"sentence\"].to_list()):\n",
    "    batch.append(doc)\n",
    "\n",
    "    if len(batch) >= batch_size:\n",
    "        vectors.append(model.encode(batch))\n",
    "        batch = []\n",
    "\n",
    "if len(batch) > 0:\n",
    "    vectors.append(model.encode(batch))\n",
    "    batch = []\n",
    "\n",
    "vectors = np.concatenate(vectors)\n",
    "\n",
    "book_name = meditations_json[\"book_title\"]\n",
    "\n",
    "client.upsert(\n",
    "    collection_name=COLLECTION_NAME,\n",
    "    points=models.Batch(\n",
    "        ids=[i for i in range(df.shape[0])],\n",
    "        payloads=[\n",
    "            {\n",
    "                \"text\": row[\"sentence\"],\n",
    "                \"title\": row[\"title\"] + f\", {book_name}\",\n",
    "                \"url\": row[\"url\"],\n",
    "            }\n",
    "            for _, row in df.iterrows()\n",
    "        ],\n",
    "        vectors=[v.tolist() for v in vectors],\n",
    "    ),\n",
    ")\n"
   ]
  },
  {
   "cell_type": "code",
   "execution_count": null,
   "metadata": {},
   "outputs": [],
   "source": []
  },
  {
   "cell_type": "code",
   "execution_count": null,
   "metadata": {},
   "outputs": [],
   "source": []
  }
 ],
 "metadata": {
  "kernelspec": {
   "display_name": "Python [conda env:projet] *",
   "language": "python",
   "name": "conda-env-projet-py"
  },
  "language_info": {
   "codemirror_mode": {
    "name": "ipython",
    "version": 3
   },
   "file_extension": ".py",
   "mimetype": "text/x-python",
   "name": "python",
   "nbconvert_exporter": "python",
   "pygments_lexer": "ipython3",
   "version": "3.9.16"
  },
  "vscode": {
   "interpreter": {
    "hash": "7f7d7ce7694bb4f4c294d506e5b6dc7957106f5332d820f0757e3d8cd7b1bbf8"
   }
  }
 },
 "nbformat": 4,
 "nbformat_minor": 4
}
